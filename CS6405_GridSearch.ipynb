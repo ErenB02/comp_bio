{
  "nbformat": 4,
  "nbformat_minor": 0,
  "metadata": {
    "colab": {
      "provenance": [],
      "include_colab_link": true
    },
    "kernelspec": {
      "name": "python3",
      "display_name": "Python 3"
    },
    "language_info": {
      "name": "python"
    }
  },
  "cells": [
    {
      "cell_type": "markdown",
      "metadata": {
        "id": "view-in-github",
        "colab_type": "text"
      },
      "source": [
        "<a href=\"https://colab.research.google.com/github/ErenB02/minecraft2/blob/Labs(DM)/CS6405_GridSearch.ipynb\" target=\"_parent\"><img src=\"https://colab.research.google.com/assets/colab-badge.svg\" alt=\"Open In Colab\"/></a>"
      ]
    },
    {
      "cell_type": "markdown",
      "source": [
        "# Data Mining - Lab GridSearch\n",
        "\n",
        "\n",
        "Lecturer: Dr Andrea Visentin\n",
        "\n",
        "\n",
        "## Specification\n",
        "\n",
        "The objective of this project is to build a k-Nearest Neighbour algorithm that takes as input training and test dataset and will predict the target variable with a reasonable degree of accuracy.\n",
        "\n",
        "This project focuses on a modified version of the Real estate valuation data set (https://archive.ics.uci.edu/ml/datasets/Real+estate+valuation+data+set).\n",
        "\n",
        "You can find the correct csv that you should use for the assignment here:\n",
        "https://github.com/andvise/DataAnalyticsDatasets/blob/main/real_estate.csv\n"
      ],
      "metadata": {
        "id": "aj6mOEoTsCJX"
      }
    },
    {
      "cell_type": "markdown",
      "source": [
        "# Data Preparation\n",
        "\n",
        "\n",
        "1.  Load the dataset on Colab\n"
      ],
      "metadata": {
        "id": "3jkbPvQyvLHl"
      }
    },
    {
      "cell_type": "code",
      "source": [
        "# YOUR CODE HERE"
      ],
      "metadata": {
        "id": "_0CEdmKwuYdw"
      },
      "execution_count": null,
      "outputs": []
    },
    {
      "cell_type": "markdown",
      "source": [
        "\n",
        "\n",
        "2. Delete the columns **num** and **transaction_date**\n",
        "\n"
      ],
      "metadata": {
        "id": "SAX0YZxyutsm"
      }
    },
    {
      "cell_type": "code",
      "source": [
        "# YOUR CODE HERE"
      ],
      "metadata": {
        "id": "_no2t3bEu7MY"
      },
      "execution_count": null,
      "outputs": []
    },
    {
      "cell_type": "markdown",
      "source": [
        "3. Use **house_price_per_unit** as the target value and the rest of the data frame as features\n"
      ],
      "metadata": {
        "id": "BAHTyJF8uys4"
      }
    },
    {
      "cell_type": "code",
      "source": [
        "# YOUR CODE HERE"
      ],
      "metadata": {
        "id": "FVo2V5jpu8td"
      },
      "execution_count": null,
      "outputs": []
    },
    {
      "cell_type": "markdown",
      "source": [
        "4. Using sklearn, divide your dataset into 80% for training and 20% for test\n"
      ],
      "metadata": {
        "id": "shSjCurZu0V6"
      }
    },
    {
      "cell_type": "code",
      "source": [
        "# YOUR CODE HERE"
      ],
      "metadata": {
        "id": "lGRWLJkKu9fo"
      },
      "execution_count": null,
      "outputs": []
    },
    {
      "cell_type": "markdown",
      "source": [
        "5. Scale the columns using min-max scalers using a MinMaxScaler (from sklearn import preprocessing)\n"
      ],
      "metadata": {
        "id": "jMkhqPtzu1n3"
      }
    },
    {
      "cell_type": "code",
      "source": [
        "# YOUR CODE HERE"
      ],
      "metadata": {
        "id": "rIea27nSu-FK"
      },
      "execution_count": null,
      "outputs": []
    },
    {
      "cell_type": "markdown",
      "source": [
        "6. Print the shape of the train and test set  "
      ],
      "metadata": {
        "id": "x8Beg7r2u24u"
      }
    },
    {
      "cell_type": "markdown",
      "source": [
        "# k-NN Hyperparametrisation\n",
        "\n",
        "1. Create a kNN regressor, https://scikit-learn.org/stable/modules/generated/sklearn.neighbors.KNeighborsRegressor.html\n",
        "\\\n",
        "\n",
        "2. Define a dictionary of hyperparameters that include:\n",
        "*   Manhattan and Euclidian distance\n",
        "*   k = [1,3,5,7,9]\n",
        "* Normal and weighted version of the kNN\n",
        "\n"
      ],
      "metadata": {
        "id": "b1f455v-vzXd"
      }
    },
    {
      "cell_type": "code",
      "source": [
        "# YOUR CODE HERE"
      ],
      "metadata": {
        "id": "SPJC6vTIwTZx"
      },
      "execution_count": null,
      "outputs": []
    },
    {
      "cell_type": "markdown",
      "source": [
        "3. Find the best set of hyperparameters using Cross Validation, https://scikit-learn.org/stable/modules/generated/sklearn.model_selection.GridSearchCV.html\n",
        "4. Print the best parameters"
      ],
      "metadata": {
        "id": "rWGWMI10wXJ5"
      }
    },
    {
      "cell_type": "code",
      "source": [
        "# YOUR CODE HERE"
      ],
      "metadata": {
        "id": "CXtkqLwQwZ_0"
      },
      "execution_count": null,
      "outputs": []
    },
    {
      "cell_type": "markdown",
      "source": [
        "5. Evaluate the best model on the test set\n"
      ],
      "metadata": {
        "id": "pf5pF5V2xCAF"
      }
    },
    {
      "cell_type": "code",
      "source": [
        "# YOUR CODE HERE"
      ],
      "metadata": {
        "id": "B9jUygeExFdv"
      },
      "execution_count": null,
      "outputs": []
    }
  ]
}